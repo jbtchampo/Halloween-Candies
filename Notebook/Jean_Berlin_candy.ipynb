{
 "cells": [
  {
   "cell_type": "code",
   "execution_count": 1,
   "metadata": {},
   "outputs": [],
   "source": [
    "#import libraries\n",
    "\n",
    "import numpy as np\n",
    "from shapely.geometry import Point\n",
    "import pandas as pd\n",
    "import geopandas as gpd\n",
    "import matplotlib.pyplot as plt\n",
    "import folium\n",
    "from folium.plugins import MarkerCluster\n",
    "from folium.plugins import FastMarkerCluster\n",
    "from IPython.display import display\n",
    "from collections import Counter\n",
    "\n",
    "%matplotlib inline"
   ]
  },
  {
   "cell_type": "code",
   "execution_count": 2,
   "metadata": {},
   "outputs": [
    {
     "data": {
      "text/html": [
       "<div>\n",
       "<style scoped>\n",
       "    .dataframe tbody tr th:only-of-type {\n",
       "        vertical-align: middle;\n",
       "    }\n",
       "\n",
       "    .dataframe tbody tr th {\n",
       "        vertical-align: top;\n",
       "    }\n",
       "\n",
       "    .dataframe thead th {\n",
       "        text-align: right;\n",
       "    }\n",
       "</style>\n",
       "<table border=\"1\" class=\"dataframe\">\n",
       "  <thead>\n",
       "    <tr style=\"text-align: right;\">\n",
       "      <th></th>\n",
       "      <th>name</th>\n",
       "      <th>3rd_place</th>\n",
       "      <th>2nd_place_pounds</th>\n",
       "      <th>state</th>\n",
       "      <th>2nd_place</th>\n",
       "      <th>3rd_place_pounds</th>\n",
       "      <th>top_candy</th>\n",
       "      <th>top_candy_pounds</th>\n",
       "      <th>geometry</th>\n",
       "    </tr>\n",
       "  </thead>\n",
       "  <tbody>\n",
       "    <tr>\n",
       "      <th>0</th>\n",
       "      <td>Florida</td>\n",
       "      <td>Reese's Peanut Butter Cups</td>\n",
       "      <td>543529</td>\n",
       "      <td>FL</td>\n",
       "      <td>Snickers</td>\n",
       "      <td>194117</td>\n",
       "      <td>Skittles</td>\n",
       "      <td>660000</td>\n",
       "      <td>MULTIPOLYGON (((-82.98339 24.60263, -82.98624 ...</td>\n",
       "    </tr>\n",
       "    <tr>\n",
       "      <th>1</th>\n",
       "      <td>Kansas</td>\n",
       "      <td>Dubble Bubble Gum</td>\n",
       "      <td>210375</td>\n",
       "      <td>KS</td>\n",
       "      <td>Reese's Peanut Butter Cups</td>\n",
       "      <td>111375</td>\n",
       "      <td>M&amp;M's</td>\n",
       "      <td>247500</td>\n",
       "      <td>POLYGON ((-102.04521 38.69757, -102.04521 38.7...</td>\n",
       "    </tr>\n",
       "    <tr>\n",
       "      <th>2</th>\n",
       "      <td>New York</td>\n",
       "      <td>Reese's Peanut Butter Cups</td>\n",
       "      <td>95047</td>\n",
       "      <td>NY</td>\n",
       "      <td>Candy Corn</td>\n",
       "      <td>39603</td>\n",
       "      <td>Sour Patch Kids</td>\n",
       "      <td>198016</td>\n",
       "      <td>MULTIPOLYGON (((-74.04657 40.68964, -74.04675 ...</td>\n",
       "    </tr>\n",
       "  </tbody>\n",
       "</table>\n",
       "</div>"
      ],
      "text/plain": [
       "       name                   3rd_place  2nd_place_pounds state  \\\n",
       "0   Florida  Reese's Peanut Butter Cups            543529    FL   \n",
       "1    Kansas           Dubble Bubble Gum            210375    KS   \n",
       "2  New York  Reese's Peanut Butter Cups             95047    NY   \n",
       "\n",
       "                    2nd_place  3rd_place_pounds        top_candy  \\\n",
       "0                    Snickers            194117         Skittles   \n",
       "1  Reese's Peanut Butter Cups            111375            M&M's   \n",
       "2                  Candy Corn             39603  Sour Patch Kids   \n",
       "\n",
       "   top_candy_pounds                                           geometry  \n",
       "0            660000  MULTIPOLYGON (((-82.98339 24.60263, -82.98624 ...  \n",
       "1            247500  POLYGON ((-102.04521 38.69757, -102.04521 38.7...  \n",
       "2            198016  MULTIPOLYGON (((-74.04657 40.68964, -74.04675 ...  "
      ]
     },
     "execution_count": 2,
     "metadata": {},
     "output_type": "execute_result"
    }
   ],
   "source": [
    "#Read Data & remove duplicates if any\n",
    "\n",
    "hallowen_candy = gpd.read_file('../data/state-by-state-favorite-halloween-candy.geojson')\n",
    "hallowen_candy.drop_duplicates(inplace=True)\n",
    "hallowen_candy.head(3)"
   ]
  },
  {
   "cell_type": "code",
   "execution_count": 3,
   "metadata": {},
   "outputs": [
    {
     "data": {
      "text/html": [
       "<div>\n",
       "<style scoped>\n",
       "    .dataframe tbody tr th:only-of-type {\n",
       "        vertical-align: middle;\n",
       "    }\n",
       "\n",
       "    .dataframe tbody tr th {\n",
       "        vertical-align: top;\n",
       "    }\n",
       "\n",
       "    .dataframe thead th {\n",
       "        text-align: right;\n",
       "    }\n",
       "</style>\n",
       "<table border=\"1\" class=\"dataframe\">\n",
       "  <thead>\n",
       "    <tr style=\"text-align: right;\">\n",
       "      <th></th>\n",
       "      <th>name</th>\n",
       "      <th>3rd_place</th>\n",
       "      <th>2nd_place_pounds</th>\n",
       "      <th>state</th>\n",
       "      <th>2nd_place</th>\n",
       "      <th>3rd_place_pounds</th>\n",
       "      <th>top_candy</th>\n",
       "      <th>top_candy_pounds</th>\n",
       "      <th>geometry</th>\n",
       "      <th>total_pounds</th>\n",
       "    </tr>\n",
       "  </thead>\n",
       "  <tbody>\n",
       "    <tr>\n",
       "      <th>0</th>\n",
       "      <td>Florida</td>\n",
       "      <td>Reese's Peanut Butter Cups</td>\n",
       "      <td>543529</td>\n",
       "      <td>FL</td>\n",
       "      <td>Snickers</td>\n",
       "      <td>194117</td>\n",
       "      <td>Skittles</td>\n",
       "      <td>660000</td>\n",
       "      <td>MULTIPOLYGON (((-82.98339 24.60263, -82.98624 ...</td>\n",
       "      <td>1397646</td>\n",
       "    </tr>\n",
       "    <tr>\n",
       "      <th>1</th>\n",
       "      <td>Kansas</td>\n",
       "      <td>Dubble Bubble Gum</td>\n",
       "      <td>210375</td>\n",
       "      <td>KS</td>\n",
       "      <td>Reese's Peanut Butter Cups</td>\n",
       "      <td>111375</td>\n",
       "      <td>M&amp;M's</td>\n",
       "      <td>247500</td>\n",
       "      <td>POLYGON ((-102.04521 38.69757, -102.04521 38.7...</td>\n",
       "      <td>569250</td>\n",
       "    </tr>\n",
       "    <tr>\n",
       "      <th>2</th>\n",
       "      <td>New York</td>\n",
       "      <td>Reese's Peanut Butter Cups</td>\n",
       "      <td>95047</td>\n",
       "      <td>NY</td>\n",
       "      <td>Candy Corn</td>\n",
       "      <td>39603</td>\n",
       "      <td>Sour Patch Kids</td>\n",
       "      <td>198016</td>\n",
       "      <td>MULTIPOLYGON (((-74.04657 40.68964, -74.04675 ...</td>\n",
       "      <td>332666</td>\n",
       "    </tr>\n",
       "  </tbody>\n",
       "</table>\n",
       "</div>"
      ],
      "text/plain": [
       "       name                   3rd_place  2nd_place_pounds state  \\\n",
       "0   Florida  Reese's Peanut Butter Cups            543529    FL   \n",
       "1    Kansas           Dubble Bubble Gum            210375    KS   \n",
       "2  New York  Reese's Peanut Butter Cups             95047    NY   \n",
       "\n",
       "                    2nd_place  3rd_place_pounds        top_candy  \\\n",
       "0                    Snickers            194117         Skittles   \n",
       "1  Reese's Peanut Butter Cups            111375            M&M's   \n",
       "2                  Candy Corn             39603  Sour Patch Kids   \n",
       "\n",
       "   top_candy_pounds                                           geometry  \\\n",
       "0            660000  MULTIPOLYGON (((-82.98339 24.60263, -82.98624 ...   \n",
       "1            247500  POLYGON ((-102.04521 38.69757, -102.04521 38.7...   \n",
       "2            198016  MULTIPOLYGON (((-74.04657 40.68964, -74.04675 ...   \n",
       "\n",
       "   total_pounds  \n",
       "0       1397646  \n",
       "1        569250  \n",
       "2        332666  "
      ]
     },
     "execution_count": 3,
     "metadata": {},
     "output_type": "execute_result"
    }
   ],
   "source": [
    "#Create a new column \"total_pounds\" to show the combined weight of 1st, 2nd, and 3rd place candies consumed by each state.\n",
    "\n",
    "hallowen_candy['total_pounds'] = hallowen_candy['top_candy_pounds'] + hallowen_candy['2nd_place_pounds'] + hallowen_candy['3rd_place_pounds']\n",
    "hallowen_candy.head(3)"
   ]
  },
  {
   "cell_type": "code",
   "execution_count": 4,
   "metadata": {},
   "outputs": [
    {
     "data": {
      "text/html": [
       "<div>\n",
       "<style scoped>\n",
       "    .dataframe tbody tr th:only-of-type {\n",
       "        vertical-align: middle;\n",
       "    }\n",
       "\n",
       "    .dataframe tbody tr th {\n",
       "        vertical-align: top;\n",
       "    }\n",
       "\n",
       "    .dataframe thead th {\n",
       "        text-align: right;\n",
       "    }\n",
       "</style>\n",
       "<table border=\"1\" class=\"dataframe\">\n",
       "  <thead>\n",
       "    <tr style=\"text-align: right;\">\n",
       "      <th></th>\n",
       "      <th>name</th>\n",
       "      <th>3rd_place</th>\n",
       "      <th>2nd_place_pounds</th>\n",
       "      <th>state</th>\n",
       "      <th>2nd_place</th>\n",
       "      <th>3rd_place_pounds</th>\n",
       "      <th>top_candy</th>\n",
       "      <th>top_candy_pounds</th>\n",
       "      <th>geometry</th>\n",
       "      <th>total_pounds</th>\n",
       "    </tr>\n",
       "  </thead>\n",
       "  <tbody>\n",
       "    <tr>\n",
       "      <th>4</th>\n",
       "      <td>California</td>\n",
       "      <td>Skittles</td>\n",
       "      <td>1188000</td>\n",
       "      <td>CA</td>\n",
       "      <td>M&amp;M's</td>\n",
       "      <td>726000</td>\n",
       "      <td>Assorted Salt Water Taffy</td>\n",
       "      <td>1650000</td>\n",
       "      <td>MULTIPOLYGON (((-119.63472 33.26544, -119.6363...</td>\n",
       "      <td>3564000</td>\n",
       "    </tr>\n",
       "  </tbody>\n",
       "</table>\n",
       "</div>"
      ],
      "text/plain": [
       "         name 3rd_place  2nd_place_pounds state 2nd_place  3rd_place_pounds  \\\n",
       "4  California  Skittles           1188000    CA     M&M's            726000   \n",
       "\n",
       "                   top_candy  top_candy_pounds  \\\n",
       "4  Assorted Salt Water Taffy           1650000   \n",
       "\n",
       "                                            geometry  total_pounds  \n",
       "4  MULTIPOLYGON (((-119.63472 33.26544, -119.6363...       3564000  "
      ]
     },
     "execution_count": 4,
     "metadata": {},
     "output_type": "execute_result"
    }
   ],
   "source": [
    "#Which state consumes the most of its 1st, 2nd, and 3rd place candies combined (greatest combined weight)?\n",
    "\n",
    "hallowen_candy = hallowen_candy.sort_values(by = 'total_pounds', ascending = False)\n",
    "hallowen_candy.head(1)"
   ]
  },
  {
   "cell_type": "code",
   "execution_count": 5,
   "metadata": {},
   "outputs": [
    {
     "data": {
      "text/html": [
       "<div>\n",
       "<style scoped>\n",
       "    .dataframe tbody tr th:only-of-type {\n",
       "        vertical-align: middle;\n",
       "    }\n",
       "\n",
       "    .dataframe tbody tr th {\n",
       "        vertical-align: top;\n",
       "    }\n",
       "\n",
       "    .dataframe thead th {\n",
       "        text-align: right;\n",
       "    }\n",
       "</style>\n",
       "<table border=\"1\" class=\"dataframe\">\n",
       "  <thead>\n",
       "    <tr style=\"text-align: right;\">\n",
       "      <th></th>\n",
       "      <th>name</th>\n",
       "      <th>3rd_place</th>\n",
       "      <th>2nd_place_pounds</th>\n",
       "      <th>state</th>\n",
       "      <th>2nd_place</th>\n",
       "      <th>3rd_place_pounds</th>\n",
       "      <th>top_candy</th>\n",
       "      <th>top_candy_pounds</th>\n",
       "      <th>geometry</th>\n",
       "      <th>total_pounds</th>\n",
       "    </tr>\n",
       "  </thead>\n",
       "  <tbody>\n",
       "    <tr>\n",
       "      <th>44</th>\n",
       "      <td>Connecticut</td>\n",
       "      <td>M&amp;M's</td>\n",
       "      <td>1366</td>\n",
       "      <td>CT</td>\n",
       "      <td>Milky Way</td>\n",
       "      <td>910</td>\n",
       "      <td>Almond Joy</td>\n",
       "      <td>2619</td>\n",
       "      <td>POLYGON ((-73.51808 41.66672, -73.51807 41.666...</td>\n",
       "      <td>4895</td>\n",
       "    </tr>\n",
       "  </tbody>\n",
       "</table>\n",
       "</div>"
      ],
      "text/plain": [
       "           name 3rd_place  2nd_place_pounds state  2nd_place  \\\n",
       "44  Connecticut     M&M's              1366    CT  Milky Way   \n",
       "\n",
       "    3rd_place_pounds   top_candy  top_candy_pounds  \\\n",
       "44               910  Almond Joy              2619   \n",
       "\n",
       "                                             geometry  total_pounds  \n",
       "44  POLYGON ((-73.51808 41.66672, -73.51807 41.666...          4895  "
      ]
     },
     "execution_count": 5,
     "metadata": {},
     "output_type": "execute_result"
    }
   ],
   "source": [
    "#Which state consumes the least of its 1st, 2nd, and 3rd place candies combined (lowest combined weight)?\n",
    "\n",
    "hallowen_candy = hallowen_candy.sort_values(by = 'total_pounds', ascending = True)\n",
    "hallowen_candy.head(1)"
   ]
  },
  {
   "cell_type": "code",
   "execution_count": 6,
   "metadata": {},
   "outputs": [
    {
     "name": "stdout",
     "output_type": "stream",
     "text": [
      "373609\n"
     ]
    }
   ],
   "source": [
    "#What is the average amount of combined candy consumed across all states?\n",
    "\n",
    "average_combined = hallowen_candy['total_pounds'].mean()\n",
    "print(round(average_combined))"
   ]
  },
  {
   "cell_type": "code",
   "execution_count": 7,
   "metadata": {},
   "outputs": [
    {
     "name": "stdout",
     "output_type": "stream",
     "text": [
      "191589\n"
     ]
    }
   ],
   "source": [
    "#What is the median amount?\n",
    "\n",
    "median_combined = hallowen_candy['total_pounds'].median()\n",
    "print(round(median_combined))"
   ]
  },
  {
   "cell_type": "code",
   "execution_count": 8,
   "metadata": {},
   "outputs": [
    {
     "data": {
      "text/html": [
       "<div>\n",
       "<style scoped>\n",
       "    .dataframe tbody tr th:only-of-type {\n",
       "        vertical-align: middle;\n",
       "    }\n",
       "\n",
       "    .dataframe tbody tr th {\n",
       "        vertical-align: top;\n",
       "    }\n",
       "\n",
       "    .dataframe thead th {\n",
       "        text-align: right;\n",
       "    }\n",
       "</style>\n",
       "<table border=\"1\" class=\"dataframe\">\n",
       "  <thead>\n",
       "    <tr style=\"text-align: right;\">\n",
       "      <th></th>\n",
       "      <th>NAME</th>\n",
       "      <th>POPESTIMATE2017</th>\n",
       "    </tr>\n",
       "  </thead>\n",
       "  <tbody>\n",
       "    <tr>\n",
       "      <th>0</th>\n",
       "      <td>Alabama</td>\n",
       "      <td>4874747</td>\n",
       "    </tr>\n",
       "    <tr>\n",
       "      <th>1</th>\n",
       "      <td>Alaska</td>\n",
       "      <td>739795</td>\n",
       "    </tr>\n",
       "    <tr>\n",
       "      <th>2</th>\n",
       "      <td>Arizona</td>\n",
       "      <td>7016270</td>\n",
       "    </tr>\n",
       "  </tbody>\n",
       "</table>\n",
       "</div>"
      ],
      "text/plain": [
       "      NAME  POPESTIMATE2017\n",
       "0  Alabama          4874747\n",
       "1   Alaska           739795\n",
       "2  Arizona          7016270"
      ]
     },
     "execution_count": 8,
     "metadata": {},
     "output_type": "execute_result"
    }
   ],
   "source": [
    "#Read the population data\n",
    "\n",
    "population = pd.read_csv('../data/population_est2017.csv')\n",
    "population.head(3)"
   ]
  },
  {
   "cell_type": "code",
   "execution_count": 9,
   "metadata": {},
   "outputs": [
    {
     "data": {
      "text/html": [
       "<div>\n",
       "<style scoped>\n",
       "    .dataframe tbody tr th:only-of-type {\n",
       "        vertical-align: middle;\n",
       "    }\n",
       "\n",
       "    .dataframe tbody tr th {\n",
       "        vertical-align: top;\n",
       "    }\n",
       "\n",
       "    .dataframe thead th {\n",
       "        text-align: right;\n",
       "    }\n",
       "</style>\n",
       "<table border=\"1\" class=\"dataframe\">\n",
       "  <thead>\n",
       "    <tr style=\"text-align: right;\">\n",
       "      <th></th>\n",
       "      <th>name</th>\n",
       "      <th>3rd_place</th>\n",
       "      <th>2nd_place_pounds</th>\n",
       "      <th>state</th>\n",
       "      <th>2nd_place</th>\n",
       "      <th>3rd_place_pounds</th>\n",
       "      <th>top_candy</th>\n",
       "      <th>top_candy_pounds</th>\n",
       "      <th>geometry</th>\n",
       "      <th>total_pounds</th>\n",
       "      <th>NAME</th>\n",
       "      <th>POPESTIMATE2017</th>\n",
       "    </tr>\n",
       "  </thead>\n",
       "  <tbody>\n",
       "    <tr>\n",
       "      <th>0</th>\n",
       "      <td>Connecticut</td>\n",
       "      <td>M&amp;M's</td>\n",
       "      <td>1366</td>\n",
       "      <td>CT</td>\n",
       "      <td>Milky Way</td>\n",
       "      <td>910</td>\n",
       "      <td>Almond Joy</td>\n",
       "      <td>2619</td>\n",
       "      <td>POLYGON ((-73.51808 41.66672, -73.51807 41.666...</td>\n",
       "      <td>4895</td>\n",
       "      <td>Connecticut</td>\n",
       "      <td>3588184</td>\n",
       "    </tr>\n",
       "    <tr>\n",
       "      <th>1</th>\n",
       "      <td>Alaska</td>\n",
       "      <td>Kit Kat</td>\n",
       "      <td>4012</td>\n",
       "      <td>AK</td>\n",
       "      <td>Blow Pops</td>\n",
       "      <td>3209</td>\n",
       "      <td>Twix</td>\n",
       "      <td>5082</td>\n",
       "      <td>MULTIPOLYGON (((172.35392 52.89499, 172.34785 ...</td>\n",
       "      <td>12303</td>\n",
       "      <td>Alaska</td>\n",
       "      <td>739795</td>\n",
       "    </tr>\n",
       "    <tr>\n",
       "      <th>2</th>\n",
       "      <td>Colorado</td>\n",
       "      <td>Hershey Kisses</td>\n",
       "      <td>4918</td>\n",
       "      <td>CO</td>\n",
       "      <td>Milky Way</td>\n",
       "      <td>2459</td>\n",
       "      <td>Twix</td>\n",
       "      <td>5532</td>\n",
       "      <td>POLYGON ((-109.05095 40.22265, -109.05097 40.2...</td>\n",
       "      <td>12909</td>\n",
       "      <td>Colorado</td>\n",
       "      <td>5607154</td>\n",
       "    </tr>\n",
       "  </tbody>\n",
       "</table>\n",
       "</div>"
      ],
      "text/plain": [
       "          name       3rd_place  2nd_place_pounds state  2nd_place  \\\n",
       "0  Connecticut           M&M's              1366    CT  Milky Way   \n",
       "1       Alaska         Kit Kat              4012    AK  Blow Pops   \n",
       "2     Colorado  Hershey Kisses              4918    CO  Milky Way   \n",
       "\n",
       "   3rd_place_pounds   top_candy  top_candy_pounds  \\\n",
       "0               910  Almond Joy              2619   \n",
       "1              3209        Twix              5082   \n",
       "2              2459        Twix              5532   \n",
       "\n",
       "                                            geometry  total_pounds  \\\n",
       "0  POLYGON ((-73.51808 41.66672, -73.51807 41.666...          4895   \n",
       "1  MULTIPOLYGON (((172.35392 52.89499, 172.34785 ...         12303   \n",
       "2  POLYGON ((-109.05095 40.22265, -109.05097 40.2...         12909   \n",
       "\n",
       "          NAME  POPESTIMATE2017  \n",
       "0  Connecticut          3588184  \n",
       "1       Alaska           739795  \n",
       "2     Colorado          5607154  "
      ]
     },
     "execution_count": 9,
     "metadata": {},
     "output_type": "execute_result"
    }
   ],
   "source": [
    "#Merge both candy data and population\n",
    "\n",
    "hallowen_candy_new = pd.merge(left = hallowen_candy, right = population,\n",
    "                 left_on = 'name', right_on = 'NAME')\n",
    "hallowen_candy_new.head(3)"
   ]
  },
  {
   "cell_type": "code",
   "execution_count": 10,
   "metadata": {},
   "outputs": [
    {
     "data": {
      "text/html": [
       "<div>\n",
       "<style scoped>\n",
       "    .dataframe tbody tr th:only-of-type {\n",
       "        vertical-align: middle;\n",
       "    }\n",
       "\n",
       "    .dataframe tbody tr th {\n",
       "        vertical-align: top;\n",
       "    }\n",
       "\n",
       "    .dataframe thead th {\n",
       "        text-align: right;\n",
       "    }\n",
       "</style>\n",
       "<table border=\"1\" class=\"dataframe\">\n",
       "  <thead>\n",
       "    <tr style=\"text-align: right;\">\n",
       "      <th></th>\n",
       "      <th>name</th>\n",
       "      <th>3rd_place</th>\n",
       "      <th>2nd_place_pounds</th>\n",
       "      <th>state</th>\n",
       "      <th>2nd_place</th>\n",
       "      <th>3rd_place_pounds</th>\n",
       "      <th>top_candy</th>\n",
       "      <th>top_candy_pounds</th>\n",
       "      <th>geometry</th>\n",
       "      <th>total_pounds</th>\n",
       "      <th>NAME</th>\n",
       "      <th>POPESTIMATE2017</th>\n",
       "      <th>per_capita</th>\n",
       "    </tr>\n",
       "  </thead>\n",
       "  <tbody>\n",
       "    <tr>\n",
       "      <th>0</th>\n",
       "      <td>Connecticut</td>\n",
       "      <td>M&amp;M's</td>\n",
       "      <td>1366</td>\n",
       "      <td>CT</td>\n",
       "      <td>Milky Way</td>\n",
       "      <td>910</td>\n",
       "      <td>Almond Joy</td>\n",
       "      <td>2619</td>\n",
       "      <td>POLYGON ((-73.51808 41.66672, -73.51807 41.666...</td>\n",
       "      <td>4895</td>\n",
       "      <td>Connecticut</td>\n",
       "      <td>3588184</td>\n",
       "      <td>0.001364</td>\n",
       "    </tr>\n",
       "    <tr>\n",
       "      <th>1</th>\n",
       "      <td>Alaska</td>\n",
       "      <td>Kit Kat</td>\n",
       "      <td>4012</td>\n",
       "      <td>AK</td>\n",
       "      <td>Blow Pops</td>\n",
       "      <td>3209</td>\n",
       "      <td>Twix</td>\n",
       "      <td>5082</td>\n",
       "      <td>MULTIPOLYGON (((172.35392 52.89499, 172.34785 ...</td>\n",
       "      <td>12303</td>\n",
       "      <td>Alaska</td>\n",
       "      <td>739795</td>\n",
       "      <td>0.016630</td>\n",
       "    </tr>\n",
       "    <tr>\n",
       "      <th>2</th>\n",
       "      <td>Colorado</td>\n",
       "      <td>Hershey Kisses</td>\n",
       "      <td>4918</td>\n",
       "      <td>CO</td>\n",
       "      <td>Milky Way</td>\n",
       "      <td>2459</td>\n",
       "      <td>Twix</td>\n",
       "      <td>5532</td>\n",
       "      <td>POLYGON ((-109.05095 40.22265, -109.05097 40.2...</td>\n",
       "      <td>12909</td>\n",
       "      <td>Colorado</td>\n",
       "      <td>5607154</td>\n",
       "      <td>0.002302</td>\n",
       "    </tr>\n",
       "  </tbody>\n",
       "</table>\n",
       "</div>"
      ],
      "text/plain": [
       "          name       3rd_place  2nd_place_pounds state  2nd_place  \\\n",
       "0  Connecticut           M&M's              1366    CT  Milky Way   \n",
       "1       Alaska         Kit Kat              4012    AK  Blow Pops   \n",
       "2     Colorado  Hershey Kisses              4918    CO  Milky Way   \n",
       "\n",
       "   3rd_place_pounds   top_candy  top_candy_pounds  \\\n",
       "0               910  Almond Joy              2619   \n",
       "1              3209        Twix              5082   \n",
       "2              2459        Twix              5532   \n",
       "\n",
       "                                            geometry  total_pounds  \\\n",
       "0  POLYGON ((-73.51808 41.66672, -73.51807 41.666...          4895   \n",
       "1  MULTIPOLYGON (((172.35392 52.89499, 172.34785 ...         12303   \n",
       "2  POLYGON ((-109.05095 40.22265, -109.05097 40.2...         12909   \n",
       "\n",
       "          NAME  POPESTIMATE2017  per_capita  \n",
       "0  Connecticut          3588184    0.001364  \n",
       "1       Alaska           739795    0.016630  \n",
       "2     Colorado          5607154    0.002302  "
      ]
     },
     "execution_count": 10,
     "metadata": {},
     "output_type": "execute_result"
    }
   ],
   "source": [
    "#Calculate a new column, per_capita to show the average weight (total pounds) consumed per person in each state.\n",
    "\n",
    "hallowen_candy_new['per_capita'] = hallowen_candy_new['total_pounds'] / hallowen_candy_new['POPESTIMATE2017']\n",
    "hallowen_candy_new.head(3)"
   ]
  },
  {
   "cell_type": "code",
   "execution_count": 11,
   "metadata": {},
   "outputs": [
    {
     "data": {
      "text/html": [
       "<div>\n",
       "<style scoped>\n",
       "    .dataframe tbody tr th:only-of-type {\n",
       "        vertical-align: middle;\n",
       "    }\n",
       "\n",
       "    .dataframe tbody tr th {\n",
       "        vertical-align: top;\n",
       "    }\n",
       "\n",
       "    .dataframe thead th {\n",
       "        text-align: right;\n",
       "    }\n",
       "</style>\n",
       "<table border=\"1\" class=\"dataframe\">\n",
       "  <thead>\n",
       "    <tr style=\"text-align: right;\">\n",
       "      <th></th>\n",
       "      <th>name</th>\n",
       "      <th>3rd_place</th>\n",
       "      <th>2nd_place_pounds</th>\n",
       "      <th>state</th>\n",
       "      <th>2nd_place</th>\n",
       "      <th>3rd_place_pounds</th>\n",
       "      <th>top_candy</th>\n",
       "      <th>top_candy_pounds</th>\n",
       "      <th>geometry</th>\n",
       "      <th>total_pounds</th>\n",
       "      <th>NAME</th>\n",
       "      <th>POPESTIMATE2017</th>\n",
       "      <th>per_capita</th>\n",
       "    </tr>\n",
       "  </thead>\n",
       "  <tbody>\n",
       "    <tr>\n",
       "      <th>44</th>\n",
       "      <td>Hawaii</td>\n",
       "      <td>Milky Way</td>\n",
       "      <td>255984</td>\n",
       "      <td>HI</td>\n",
       "      <td>Hawaiian Host</td>\n",
       "      <td>105405</td>\n",
       "      <td>Hershey Kisses</td>\n",
       "      <td>271042</td>\n",
       "      <td>MULTIPOLYGON (((-166.38290 23.82966, -166.3844...</td>\n",
       "      <td>632431</td>\n",
       "      <td>Hawaii</td>\n",
       "      <td>1427538</td>\n",
       "      <td>0.443022</td>\n",
       "    </tr>\n",
       "    <tr>\n",
       "      <th>49</th>\n",
       "      <td>Arizona</td>\n",
       "      <td>Hot Tamales Minis</td>\n",
       "      <td>680450</td>\n",
       "      <td>AZ</td>\n",
       "      <td>Hershey Kisses</td>\n",
       "      <td>453633</td>\n",
       "      <td>Snickers</td>\n",
       "      <td>963971</td>\n",
       "      <td>POLYGON ((-114.51645 33.02762, -114.51664 33.0...</td>\n",
       "      <td>2098054</td>\n",
       "      <td>Arizona</td>\n",
       "      <td>7016270</td>\n",
       "      <td>0.299027</td>\n",
       "    </tr>\n",
       "    <tr>\n",
       "      <th>47</th>\n",
       "      <td>Utah</td>\n",
       "      <td>Tootsie Pops</td>\n",
       "      <td>260883</td>\n",
       "      <td>UT</td>\n",
       "      <td>Reese's Peanut Butter Cups</td>\n",
       "      <td>139137</td>\n",
       "      <td>Jolly Ranchers Candy</td>\n",
       "      <td>469590</td>\n",
       "      <td>POLYGON ((-114.04702 39.90604, -114.04713 39.9...</td>\n",
       "      <td>869610</td>\n",
       "      <td>Utah</td>\n",
       "      <td>3101833</td>\n",
       "      <td>0.280354</td>\n",
       "    </tr>\n",
       "  </tbody>\n",
       "</table>\n",
       "</div>"
      ],
      "text/plain": [
       "       name          3rd_place  2nd_place_pounds state  \\\n",
       "44   Hawaii          Milky Way            255984    HI   \n",
       "49  Arizona  Hot Tamales Minis            680450    AZ   \n",
       "47     Utah       Tootsie Pops            260883    UT   \n",
       "\n",
       "                     2nd_place  3rd_place_pounds             top_candy  \\\n",
       "44               Hawaiian Host            105405        Hershey Kisses   \n",
       "49              Hershey Kisses            453633              Snickers   \n",
       "47  Reese's Peanut Butter Cups            139137  Jolly Ranchers Candy   \n",
       "\n",
       "    top_candy_pounds                                           geometry  \\\n",
       "44            271042  MULTIPOLYGON (((-166.38290 23.82966, -166.3844...   \n",
       "49            963971  POLYGON ((-114.51645 33.02762, -114.51664 33.0...   \n",
       "47            469590  POLYGON ((-114.04702 39.90604, -114.04713 39.9...   \n",
       "\n",
       "    total_pounds     NAME  POPESTIMATE2017  per_capita  \n",
       "44        632431   Hawaii          1427538    0.443022  \n",
       "49       2098054  Arizona          7016270    0.299027  \n",
       "47        869610     Utah          3101833    0.280354  "
      ]
     },
     "execution_count": 11,
     "metadata": {},
     "output_type": "execute_result"
    }
   ],
   "source": [
    "#Which state has the greatest consumption of its 1st, 2nd, and 3rd place candies per capita?\n",
    "\n",
    "hallowen_candy_new = hallowen_candy_new.sort_values(by = 'per_capita', ascending = False)\n",
    "hallowen_candy_new.head(3)"
   ]
  },
  {
   "cell_type": "code",
   "execution_count": 12,
   "metadata": {},
   "outputs": [
    {
     "name": "stdout",
     "output_type": "stream",
     "text": [
      "14    0.0087\n",
      "Name: 1st, dtype: float64\n",
      "14    0.0049\n",
      "Name: 2nd, dtype: float64\n",
      "14    0.0019\n",
      "Name: 3rd, dtype: float64\n"
     ]
    },
    {
     "name": "stderr",
     "output_type": "stream",
     "text": [
      "C:\\Users\\jbtch\\anaconda3\\envs\\geospatial\\lib\\site-packages\\geopandas\\geodataframe.py:853: SettingWithCopyWarning: \n",
      "A value is trying to be set on a copy of a slice from a DataFrame.\n",
      "Try using .loc[row_indexer,col_indexer] = value instead\n",
      "\n",
      "See the caveats in the documentation: https://pandas.pydata.org/pandas-docs/stable/user_guide/indexing.html#returning-a-view-versus-a-copy\n",
      "  super(GeoDataFrame, self).__setitem__(key, value)\n"
     ]
    }
   ],
   "source": [
    "#For this state, what is the consumption per capita for each of the top-3 candies?\n",
    "\n",
    "Sweet_TN = hallowen_candy_new[hallowen_candy_new['name']=='Tennessee']\n",
    "\n",
    "Sweet_TN['1st'] = Sweet_TN['top_candy_pounds'] / Sweet_TN['POPESTIMATE2017']\n",
    "print(round(Sweet_TN['1st'],4))\n",
    "\n",
    "Sweet_TN['2nd'] = Sweet_TN['2nd_place_pounds'] / Sweet_TN['POPESTIMATE2017']\n",
    "print(round(Sweet_TN['2nd'],4))\n",
    "\n",
    "Sweet_TN['3rd'] = Sweet_TN['3rd_place_pounds'] / Sweet_TN['POPESTIMATE2017']\n",
    "print(round(Sweet_TN['3rd'],4))"
   ]
  },
  {
   "cell_type": "code",
   "execution_count": 13,
   "metadata": {},
   "outputs": [
    {
     "data": {
      "text/plain": [
       "(\"M&M's\", 16)"
      ]
     },
     "execution_count": 13,
     "metadata": {},
     "output_type": "execute_result"
    }
   ],
   "source": [
    "#Which candy shows up most frequently (look at the 1st, 2nd, and 3rd place candies combined) in the dataset? One way you could do this is to create three lists from the DataFrame columns and concatenate them. You could iterate through this list and create a dictionary of counts. You could also use the Counter() method from the collections package.\n",
    "\n",
    "#Let's define the combination of 1st, 2nd & 3rd place candies first and use the Counter() method;\n",
    "\n",
    "choco_1 = Counter(hallowen_candy_new['top_candy'])\n",
    "choco_2 = Counter(hallowen_candy_new['2nd_place'])\n",
    "choco_3 = Counter(hallowen_candy_new['3rd_place'])\n",
    "\n",
    "all_3_choco = choco_1 + choco_2 + choco_3\n",
    "\n",
    "Most_famous_candy = sorted(all_3_choco.items(), key=lambda x: x[1], reverse=True)\n",
    "Most_famous_candy[0]"
   ]
  },
  {
   "cell_type": "code",
   "execution_count": 14,
   "metadata": {},
   "outputs": [
    {
     "data": {
      "image/png": "[encoded data removed]",
      "text/plain": [
       "<Figure size 432x288 with 1 Axes>"
      ]
     },
     "metadata": {
      "needs_background": "light"
     },
     "output_type": "display_data"
    }
   ],
   "source": [
    "#Make a bar plot to show the number of times each candy appears in in the dataset (regardless of place).\n",
    "\n",
    "Most_famous_candy_count = pd.DataFrame(Most_famous_candy,columns=['name', 'count'])\n",
    "\n",
    "plt.bar(Most_famous_candy_count['name'], Most_famous_candy_count['count'])\n",
    "plt.xlabel('Candies')\n",
    "plt.xticks(rotation=90)\n",
    "plt.ylabel('Count of Candies')\n",
    "plt.title('Distribution of candies')\n",
    "\n",
    "plt.show()"
   ]
  },
  {
   "cell_type": "code",
   "execution_count": 15,
   "metadata": {},
   "outputs": [
    {
     "data": {
      "text/plain": [
       "<AxesSubplot:>"
      ]
     },
     "execution_count": 15,
     "metadata": {},
     "output_type": "execute_result"
    },
    {
     "data": {
      "image/png": "[encoded data removed]",
      "text/plain": [
       "<Figure size 2880x720 with 1 Axes>"
      ]
     },
     "metadata": {
      "needs_background": "light"
     },
     "output_type": "display_data"
    }
   ],
   "source": [
    "#plot a simple choropleth of candy consumption per capita for states.\n",
    "\n",
    "fig, ax = plt.subplots(figsize=(40,10))\n",
    "hallowen_candy_new.plot(column = 'per_capita', \n",
    "                    cmap = 'plasma', \n",
    "                    linewidth=0.8, \n",
    "                    ax=ax, \n",
    "                    edgecolor='0.8')\n",
    "                    "
   ]
  },
  {
   "cell_type": "code",
   "execution_count": 17,
   "metadata": {},
   "outputs": [
    {
     "ename": "NameError",
     "evalue": "name 'sns' is not defined",
     "output_type": "error",
     "traceback": [
      "\u001b[1;31m---------------------------------------------------------------------------\u001b[0m",
      "\u001b[1;31mNameError\u001b[0m                                 Traceback (most recent call last)",
      "\u001b[1;32m<ipython-input-17-8357142fecbf>\u001b[0m in \u001b[0;36m<module>\u001b[1;34m\u001b[0m\n\u001b[0;32m      1\u001b[0m \u001b[0mplt\u001b[0m\u001b[1;33m.\u001b[0m\u001b[0mfigure\u001b[0m\u001b[1;33m(\u001b[0m\u001b[0mfigsize\u001b[0m \u001b[1;33m=\u001b[0m \u001b[1;33m(\u001b[0m\u001b[1;36m20\u001b[0m\u001b[1;33m,\u001b[0m\u001b[1;36m8\u001b[0m\u001b[1;33m)\u001b[0m\u001b[1;33m)\u001b[0m\u001b[1;33m\u001b[0m\u001b[1;33m\u001b[0m\u001b[0m\n\u001b[1;32m----> 2\u001b[1;33m \u001b[0msns\u001b[0m\u001b[1;33m.\u001b[0m\u001b[0mheatmap\u001b[0m\u001b[1;33m(\u001b[0m\u001b[0mdf\u001b[0m\u001b[1;33m.\u001b[0m\u001b[0mcorr\u001b[0m\u001b[1;33m(\u001b[0m\u001b[1;33m)\u001b[0m\u001b[1;33m,\u001b[0m \u001b[0mannot\u001b[0m\u001b[1;33m=\u001b[0m\u001b[1;32mTrue\u001b[0m\u001b[1;33m,\u001b[0m \u001b[0mcmap\u001b[0m \u001b[1;33m=\u001b[0m \u001b[1;34m'coolwarm'\u001b[0m\u001b[1;33m)\u001b[0m\u001b[1;33m\u001b[0m\u001b[1;33m\u001b[0m\u001b[0m\n\u001b[0m",
      "\u001b[1;31mNameError\u001b[0m: name 'sns' is not defined"
     ]
    },
    {
     "data": {
      "text/plain": [
       "<Figure size 1440x576 with 0 Axes>"
      ]
     },
     "metadata": {},
     "output_type": "display_data"
    }
   ],
   "source": []
  },
  {
   "cell_type": "code",
   "execution_count": null,
   "metadata": {},
   "outputs": [],
   "source": []
  }
 ],
 "metadata": {
  "kernelspec": {
   "display_name": "Python 3",
   "language": "python",
   "name": "python3"
  },
  "language_info": {
   "codemirror_mode": {
    "name": "ipython",
    "version": 3
   },
   "file_extension": ".py",
   "mimetype": "text/x-python",
   "name": "python",
   "nbconvert_exporter": "python",
   "pygments_lexer": "ipython3",
   "version": "3.8.5"
  }
 },
 "nbformat": 4,
 "nbformat_minor": 4
}
